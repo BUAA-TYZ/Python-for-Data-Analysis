{
 "cells": [
  {
   "cell_type": "code",
   "execution_count": 3,
   "id": "23cbd535",
   "metadata": {},
   "outputs": [
    {
     "name": "stdout",
     "output_type": "stream",
     "text": [
      "Input a number, judge whether it's bigger than 3\n",
      "2\n"
     ]
    },
    {
     "data": {
      "text/plain": [
       "False"
      ]
     },
     "execution_count": 3,
     "metadata": {},
     "output_type": "execute_result"
    }
   ],
   "source": [
    "x=input('Input a number, judge whether it\\'s bigger than 3\\n')\n",
    "True if int(x)>3 else False"
   ]
  },
  {
   "cell_type": "code",
   "execution_count": 6,
   "id": "de74f81a",
   "metadata": {},
   "outputs": [
    {
     "data": {
      "text/plain": [
       "list"
      ]
     },
     "execution_count": 6,
     "metadata": {},
     "output_type": "execute_result"
    }
   ],
   "source": [
    "a=[1,2]\n",
    "type (a)"
   ]
  },
  {
   "cell_type": "code",
   "execution_count": 6,
   "id": "b1b19230",
   "metadata": {},
   "outputs": [
    {
     "data": {
      "text/plain": [
       "True"
      ]
     },
     "execution_count": 6,
     "metadata": {},
     "output_type": "execute_result"
    }
   ],
   "source": [
    "isinstance(a,(list))"
   ]
  },
  {
   "cell_type": "code",
   "execution_count": 9,
   "id": "beb8b2df",
   "metadata": {},
   "outputs": [],
   "source": [
    "def append_element(some_list, element):\n",
    "    some_list.append(element)"
   ]
  },
  {
   "cell_type": "code",
   "execution_count": 13,
   "id": "e36f1c2a",
   "metadata": {},
   "outputs": [
    {
     "data": {
      "text/plain": [
       "[1, 2, 3, 3, 2, 2]"
      ]
     },
     "execution_count": 13,
     "metadata": {},
     "output_type": "execute_result"
    }
   ],
   "source": [
    "append_element(a,2)\n",
    "a"
   ]
  },
  {
   "cell_type": "code",
   "execution_count": 15,
   "id": "3c20381b",
   "metadata": {},
   "outputs": [
    {
     "data": {
      "text/plain": [
       "[1, 'ss', 'ss', 2, 3, 3, 2, 2]"
      ]
     },
     "execution_count": 15,
     "metadata": {},
     "output_type": "execute_result"
    }
   ],
   "source": [
    "a.insert(1,'ss')\n",
    "a"
   ]
  },
  {
   "cell_type": "code",
   "execution_count": 14,
   "id": "753145fa",
   "metadata": {},
   "outputs": [],
   "source": [
    "import some_model as zr"
   ]
  },
  {
   "cell_type": "code",
   "execution_count": 19,
   "id": "17407685",
   "metadata": {},
   "outputs": [
    {
     "data": {
      "text/plain": [
       "201.06176"
      ]
     },
     "execution_count": 19,
     "metadata": {},
     "output_type": "execute_result"
    }
   ],
   "source": [
    "zr.volume(4)"
   ]
  },
  {
   "cell_type": "code",
   "execution_count": 19,
   "id": "14eee392",
   "metadata": {},
   "outputs": [
    {
     "data": {
      "text/plain": [
       "2"
      ]
     },
     "execution_count": 19,
     "metadata": {},
     "output_type": "execute_result"
    }
   ],
   "source": [
    "a.count('ss')"
   ]
  },
  {
   "cell_type": "code",
   "execution_count": 22,
   "id": "207e7e30",
   "metadata": {},
   "outputs": [],
   "source": [
    "from some_model import volume as vl"
   ]
  },
  {
   "cell_type": "code",
   "execution_count": 25,
   "id": "18f18ddf",
   "metadata": {},
   "outputs": [
    {
     "data": {
      "text/plain": [
       "201.06176"
      ]
     },
     "execution_count": 25,
     "metadata": {},
     "output_type": "execute_result"
    }
   ],
   "source": [
    "vl(4)"
   ]
  }
 ],
 "metadata": {
  "kernelspec": {
   "display_name": "Python 3 (ipykernel)",
   "language": "python",
   "name": "python3"
  },
  "language_info": {
   "codemirror_mode": {
    "name": "ipython",
    "version": 3
   },
   "file_extension": ".py",
   "mimetype": "text/x-python",
   "name": "python",
   "nbconvert_exporter": "python",
   "pygments_lexer": "ipython3",
   "version": "3.11.4"
  }
 },
 "nbformat": 4,
 "nbformat_minor": 5
}
