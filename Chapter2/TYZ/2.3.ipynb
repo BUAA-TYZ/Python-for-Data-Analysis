{
 "cells": [
  {
   "cell_type": "markdown",
   "id": "e277ebb9",
   "metadata": {},
   "source": [
    "可以使用 `import` 导入同目录下的包"
   ]
  },
  {
   "cell_type": "code",
   "execution_count": 1,
   "id": "8fc7802e",
   "metadata": {},
   "outputs": [],
   "source": [
    "import some_module as tyz"
   ]
  },
  {
   "cell_type": "code",
   "execution_count": 2,
   "id": "8f0cd4df",
   "metadata": {},
   "outputs": [],
   "source": [
    "tyz.square?"
   ]
  },
  {
   "cell_type": "code",
   "execution_count": 3,
   "id": "e65f78a3",
   "metadata": {},
   "outputs": [
    {
     "data": {
      "text/plain": [
       "3.14159"
      ]
     },
     "execution_count": 3,
     "metadata": {},
     "output_type": "execute_result"
    }
   ],
   "source": [
    "tyz.square(1)"
   ]
  },
  {
   "cell_type": "markdown",
   "id": "43f86c26",
   "metadata": {},
   "source": [
    "---\n",
    "- 每次都写 `包名+对象名` 太麻烦\n",
    "- 对于常用函数可以直接导入进包并使用 `as` 重命名 "
   ]
  },
  {
   "cell_type": "code",
   "execution_count": 4,
   "id": "99084bbf",
   "metadata": {},
   "outputs": [],
   "source": [
    "from some_module import square as CircleSquare"
   ]
  },
  {
   "cell_type": "code",
   "execution_count": 5,
   "id": "985231ff",
   "metadata": {},
   "outputs": [
    {
     "data": {
      "text/plain": [
       "3.14159"
      ]
     },
     "execution_count": 5,
     "metadata": {},
     "output_type": "execute_result"
    }
   ],
   "source": [
    "CircleSquare(1)"
   ]
  },
  {
   "cell_type": "markdown",
   "id": "24f777e0",
   "metadata": {},
   "source": [
    "三目运算符，比 if else 简洁很多"
   ]
  },
  {
   "cell_type": "code",
   "execution_count": 6,
   "id": "06733f3c",
   "metadata": {},
   "outputs": [
    {
     "name": "stdout",
     "output_type": "stream",
     "text": [
      "Input a number, judge whether it's odd\n",
      "5\n"
     ]
    },
    {
     "data": {
      "text/plain": [
       "'True'"
      ]
     },
     "execution_count": 6,
     "metadata": {},
     "output_type": "execute_result"
    }
   ],
   "source": [
    "x=input('Input a number, judge whether it\\'s odd\\n')\n",
    "'True' if int(x) % 2 != 0 else 'False'"
   ]
  }
 ],
 "metadata": {
  "kernelspec": {
   "display_name": "Python 3 (ipykernel)",
   "language": "python",
   "name": "python3"
  },
  "language_info": {
   "codemirror_mode": {
    "name": "ipython",
    "version": 3
   },
   "file_extension": ".py",
   "mimetype": "text/x-python",
   "name": "python",
   "nbconvert_exporter": "python",
   "pygments_lexer": "ipython3",
   "version": "3.9.12"
  }
 },
 "nbformat": 4,
 "nbformat_minor": 5
}
