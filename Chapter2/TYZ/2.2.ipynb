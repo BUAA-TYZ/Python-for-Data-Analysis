{
 "cells": [
  {
   "cell_type": "code",
   "execution_count": 1,
   "id": "3a16e25c",
   "metadata": {},
   "outputs": [],
   "source": [
    "b=[1,2,3]"
   ]
  },
  {
   "cell_type": "markdown",
   "id": "acdf1db6",
   "metadata": {},
   "source": [
    "### 自省\n",
    "输出相关帮助信息"
   ]
  },
  {
   "cell_type": "code",
   "execution_count": 2,
   "id": "b3b66e1a",
   "metadata": {},
   "outputs": [],
   "source": [
    "print?"
   ]
  },
  {
   "cell_type": "markdown",
   "id": "3c55e368",
   "metadata": {},
   "source": [
    "### DocString\n",
    "跟在函数后面，阐释函数作用，自省时会被看到"
   ]
  },
  {
   "cell_type": "code",
   "execution_count": 3,
   "id": "d16eefaf",
   "metadata": {},
   "outputs": [],
   "source": [
    "def add (a, b):\n",
    "    \"\"\"\n",
    "    Add Two Numbers\n",
    "    \n",
    "    Returns\n",
    "    ---------\n",
    "    \n",
    "    The sum of two numbers\n",
    "    \n",
    "    \"\"\"\n",
    "    return a + b"
   ]
  },
  {
   "cell_type": "code",
   "execution_count": 4,
   "id": "900bd7f5",
   "metadata": {},
   "outputs": [],
   "source": [
    "add?"
   ]
  }
 ],
 "metadata": {
  "kernelspec": {
   "display_name": "Python 3 (ipykernel)",
   "language": "python",
   "name": "python3"
  },
  "language_info": {
   "codemirror_mode": {
    "name": "ipython",
    "version": 3
   },
   "file_extension": ".py",
   "mimetype": "text/x-python",
   "name": "python",
   "nbconvert_exporter": "python",
   "pygments_lexer": "ipython3",
   "version": "3.9.12"
  }
 },
 "nbformat": 4,
 "nbformat_minor": 5
}
