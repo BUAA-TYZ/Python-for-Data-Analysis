{
 "cells": [
  {
   "cell_type": "markdown",
   "id": "dc9dfb40",
   "metadata": {},
   "source": [
    "### Numpy\n",
    "这是一个非常高效的库，底层由 C 编写。其效率比自己用 C 手写更快，有非常多特定的优化。"
   ]
  },
  {
   "cell_type": "code",
   "execution_count": 1,
   "id": "72ed894c",
   "metadata": {},
   "outputs": [],
   "source": [
    "import numpy as np"
   ]
  },
  {
   "cell_type": "code",
   "execution_count": 4,
   "id": "37d564d1",
   "metadata": {},
   "outputs": [
    {
     "name": "stdout",
     "output_type": "stream",
     "text": [
      "[5483879 8883828 9446800 9004052 1923315]\n"
     ]
    }
   ],
   "source": [
    "np_number = np.random.randint(10 ** 7,size=10 ** 7)\n",
    "# 生成一百万个 numpy 随机数组\n",
    "print(np_number[:5])"
   ]
  },
  {
   "cell_type": "code",
   "execution_count": 5,
   "id": "3c86ecd8",
   "metadata": {},
   "outputs": [
    {
     "name": "stdout",
     "output_type": "stream",
     "text": [
      "[9523117, 2770825, 4644334, 7522197, 9006791]\n"
     ]
    }
   ],
   "source": [
    "py_number = list(np.random.randint(10 ** 7,size=10 ** 7))\n",
    "# 生成一百万个 python 随机数组\n",
    "print(py_number[:5])"
   ]
  },
  {
   "cell_type": "markdown",
   "id": "359f97e3",
   "metadata": {},
   "source": [
    "### 排序算法比较\n",
    "下面两个分别使用对应的算法对一百万个数进行排序, 在我的电脑上\n",
    "- numpy 只用了 641 ms\n",
    "- python 用了 9.5 s\n",
    "- 而我自己用 C++ 写的快排用了 2.5 s\n",
    "\n",
    "numpy底层做了很深入的优化，所以**几乎不可能**比它更快。\n",
    ")-猜测使用的是基数排序"
   ]
  },
  {
   "cell_type": "code",
   "execution_count": 6,
   "id": "bb723208",
   "metadata": {},
   "outputs": [
    {
     "name": "stdout",
     "output_type": "stream",
     "text": [
      "CPU times: total: 641 ms\n",
      "Wall time: 662 ms\n"
     ]
    }
   ],
   "source": [
    "%time np_number.sort()"
   ]
  },
  {
   "cell_type": "code",
   "execution_count": 7,
   "id": "67cd35ee",
   "metadata": {},
   "outputs": [
    {
     "name": "stdout",
     "output_type": "stream",
     "text": [
      "CPU times: total: 9.47 s\n",
      "Wall time: 9.5 s\n"
     ]
    }
   ],
   "source": [
    "%time py_number.sort()"
   ]
  },
  {
   "cell_type": "code",
   "execution_count": 12,
   "id": "f7f36626",
   "metadata": {},
   "outputs": [
    {
     "name": "stdout",
     "output_type": "stream",
     "text": [
      "[ 0  1  4  4  5  6  7  9 10 11]\n",
      "[2, 2, 2, 3, 3, 3, 3, 4, 5, 5]\n"
     ]
    }
   ],
   "source": [
    "# 验证是否排好序\n",
    "print(np_number[:10])\n",
    "print(py_number[:10])"
   ]
  },
  {
   "cell_type": "markdown",
   "id": "9f558272",
   "metadata": {},
   "source": [
    "**本章全部很重要**"
   ]
  }
 ],
 "metadata": {
  "kernelspec": {
   "display_name": "Python 3 (ipykernel)",
   "language": "python",
   "name": "python3"
  },
  "language_info": {
   "codemirror_mode": {
    "name": "ipython",
    "version": 3
   },
   "file_extension": ".py",
   "mimetype": "text/x-python",
   "name": "python",
   "nbconvert_exporter": "python",
   "pygments_lexer": "ipython3",
   "version": "3.9.12"
  }
 },
 "nbformat": 4,
 "nbformat_minor": 5
}
