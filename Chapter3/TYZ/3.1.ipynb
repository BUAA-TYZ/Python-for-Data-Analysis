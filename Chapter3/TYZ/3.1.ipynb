{
 "cells": [
  {
   "cell_type": "markdown",
   "id": "395a5138",
   "metadata": {},
   "source": [
    "### Python 基本操作\n",
    "\n",
    "- 3.1， 3.3 都看\n",
    "- 3.2 看到 lambda"
   ]
  },
  {
   "cell_type": "markdown",
   "id": "b09fa8db",
   "metadata": {},
   "source": [
    "##### 列表、集合和字典推导式\n",
    "python 很好用的语法糖"
   ]
  },
  {
   "cell_type": "code",
   "execution_count": 1,
   "id": "af26ba0c",
   "metadata": {},
   "outputs": [
    {
     "data": {
      "text/plain": [
       "[0, 1, 2, 3, 4, 5, 6, 7, 8, 9]"
      ]
     },
     "execution_count": 1,
     "metadata": {},
     "output_type": "execute_result"
    }
   ],
   "source": [
    "l = [i for i in range(0, 10)]\n",
    "l"
   ]
  },
  {
   "cell_type": "code",
   "execution_count": 3,
   "id": "35629241",
   "metadata": {},
   "outputs": [
    {
     "data": {
      "text/plain": [
       "[0, 2, 4, 6, 8]"
      ]
     },
     "execution_count": 3,
     "metadata": {},
     "output_type": "execute_result"
    }
   ],
   "source": [
    "l = [i for i in range(0, 10) if i % 2 == 0]\n",
    "l"
   ]
  }
 ],
 "metadata": {
  "kernelspec": {
   "display_name": "Python 3 (ipykernel)",
   "language": "python",
   "name": "python3"
  },
  "language_info": {
   "codemirror_mode": {
    "name": "ipython",
    "version": 3
   },
   "file_extension": ".py",
   "mimetype": "text/x-python",
   "name": "python",
   "nbconvert_exporter": "python",
   "pygments_lexer": "ipython3",
   "version": "3.9.18"
  }
 },
 "nbformat": 4,
 "nbformat_minor": 5
}
