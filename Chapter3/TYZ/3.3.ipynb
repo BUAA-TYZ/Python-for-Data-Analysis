{
 "cells": [
  {
   "cell_type": "markdown",
   "id": "64f190b2",
   "metadata": {},
   "source": [
    "## 3.3 文件和操作系统"
   ]
  },
  {
   "cell_type": "code",
   "execution_count": 1,
   "id": "91d398f8",
   "metadata": {},
   "outputs": [],
   "source": [
    "import os"
   ]
  },
  {
   "cell_type": "code",
   "execution_count": 2,
   "id": "774c7f0b",
   "metadata": {},
   "outputs": [
    {
     "data": {
      "text/plain": [
       "'C:\\\\Users\\\\86135\\\\Python for Data Analysis\\\\Chapter3\\\\TYZ'"
      ]
     },
     "execution_count": 2,
     "metadata": {},
     "output_type": "execute_result"
    }
   ],
   "source": [
    "path = os.getcwd()\n",
    "# 当前目录\n",
    "path"
   ]
  },
  {
   "cell_type": "code",
   "execution_count": 3,
   "id": "303588df",
   "metadata": {},
   "outputs": [
    {
     "data": {
      "text/plain": [
       "['.ipynb_checkpoints', '3.3.ipynb', 'ch03.ipynb', 'letter.txt']"
      ]
     },
     "execution_count": 3,
     "metadata": {},
     "output_type": "execute_result"
    }
   ],
   "source": [
    "# path 目录下所有文件\n",
    "os.listdir(path)"
   ]
  },
  {
   "cell_type": "code",
   "execution_count": 4,
   "id": "bce4da9c",
   "metadata": {},
   "outputs": [
    {
     "data": {
      "text/plain": [
       "'C:\\\\Users\\\\86135\\\\Python for Data Analysis\\\\Chapter3\\\\TYZ\\\\letter.txt'"
      ]
     },
     "execution_count": 4,
     "metadata": {},
     "output_type": "execute_result"
    }
   ],
   "source": [
    "file = os.path.join(path, 'letter.txt')\n",
    "file"
   ]
  },
  {
   "cell_type": "markdown",
   "id": "98808f03",
   "metadata": {},
   "source": [
    "找 txt 中所有有字母 a 的行并打印\n",
    "wit"
   ]
  },
  {
   "cell_type": "code",
   "execution_count": 5,
   "id": "2e1323af",
   "metadata": {},
   "outputs": [
    {
     "name": "stdout",
     "output_type": "stream",
     "text": [
      "1. a\n",
      "27. a\n",
      "53. a\n",
      "79. a\n"
     ]
    }
   ],
   "source": [
    "with open(file) as f:\n",
    "    lines = [x.rstrip() for x in f]\n",
    "    for line in lines:\n",
    "        if 'a' in line:\n",
    "            print(line)"
   ]
  }
 ],
 "metadata": {
  "kernelspec": {
   "display_name": "Python 3 (ipykernel)",
   "language": "python",
   "name": "python3"
  },
  "language_info": {
   "codemirror_mode": {
    "name": "ipython",
    "version": 3
   },
   "file_extension": ".py",
   "mimetype": "text/x-python",
   "name": "python",
   "nbconvert_exporter": "python",
   "pygments_lexer": "ipython3",
   "version": "3.9.18"
  }
 },
 "nbformat": 4,
 "nbformat_minor": 5
}
